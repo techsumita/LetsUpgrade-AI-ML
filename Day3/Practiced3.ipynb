{
 "cells": [
  {
   "cell_type": "code",
   "execution_count": 1,
   "metadata": {},
   "outputs": [
    {
     "name": "stdout",
     "output_type": "stream",
     "text": [
      "Subtraction of two complex numbers: (-3-25.25j)\n",
      "z1 : (2+3j)\n",
      "z2 : (1+2j)\n",
      "Subtraction is :  (1+1j)\n"
     ]
    }
   ],
   "source": [
    "# subtraction of two complex no\n",
    "varComplex1 = 10+20.35j\n",
    "varComplex2 = 13+45.60j\n",
    "var_substract = varComplex1 - varComplex2\n",
    "print ('Subtraction of two complex numbers:', var_substract)\n",
    "\n",
    "\n",
    "# using functions\n",
    "def subComplex( z1, z2): \n",
    " return z1-z2 \n",
    "\n",
    "z1 = complex(2, 3) \n",
    "print(\"z1 :\",z1)\n",
    "z2 = complex(1, 2) \n",
    "print(\"z2 :\",z2)\n",
    "print( \"Subtraction is : \", subComplex(z1, z2))\n"
   ]
  },
  {
   "cell_type": "code",
   "execution_count": 2,
   "metadata": {},
   "outputs": [
    {
     "name": "stdout",
     "output_type": "stream",
     "text": [
      "The square of a Given Number 2.0\n",
      "The forth root of 16.000 is 2.000\n"
     ]
    }
   ],
   "source": [
    "# fourth root of a number\n",
    "\n",
    "number = 16\n",
    "square =number ** 0.25\n",
    "print(\"The square of a Given Number\",square)\n",
    "print('The forth root of %0.3f is %0.3f'%(number ,square))\n",
    "\n"
   ]
  },
  {
   "cell_type": "code",
   "execution_count": 3,
   "metadata": {},
   "outputs": [
    {
     "name": "stdout",
     "output_type": "stream",
     "text": [
      "Value of num1 before swapping:  12\n",
      "Value of num2 before swapping:  13\n",
      "Value of num1 after swapping:  13\n",
      "Value of num2 after swapping:  12\n",
      "Value of num1 after swapping:  12\n",
      "Value of num2 after swapping:  13\n"
     ]
    }
   ],
   "source": [
    "\n",
    "#swap two numbers in Python with the help of a temporary variable.\n",
    "\n",
    "num1 = 12\n",
    "num2 = 13\n",
    "print(\"Value of num1 before swapping: \", num1)\n",
    "print(\"Value of num2 before swapping: \", num2)\n",
    "\n",
    "temp = num1\n",
    "num1 = num2\n",
    "num2 = temp\n",
    "\n",
    "print(\"Value of num1 after swapping: \", num1)\n",
    "print(\"Value of num2 after swapping: \", num2)\n",
    "\n",
    "\n",
    "#swap two numbers in Python without using a temporary variable\n",
    "\n",
    "num1, num2 = num2, num1\n",
    "\n",
    "print(\"Value of num1 after swapping: \", num1)\n",
    "print(\"Value of num2 after swapping: \", num2)\n"
   ]
  },
  {
   "cell_type": "code",
   "execution_count": 8,
   "metadata": {},
   "outputs": [
    {
     "name": "stdout",
     "output_type": "stream",
     "text": [
      "celsius_to_fahrenheit: 107.60000000000001\n",
      "fahrenheit_to_celsius: 42.22222222222222\n",
      "fahrenheit_to_Kelvin: 315.22222222222223\n",
      "Fahrenheit: 108\n",
      "Celsius: 42.22222222222222\n",
      "Kelvin: 315.22222222222223\n"
     ]
    }
   ],
   "source": [
    "#Write a program to convert fahrenheit to kelvin and celsius both.\n",
    "c_temp = 42\n",
    "f_temp=108\n",
    "def celsius_to_fahrenheit(c_temp):\n",
    "    return 9.0 / 5.0 * c_temp + 32\n",
    "    \n",
    "def fahrenheit_to_celsius(f_temp):\n",
    "    return (f_temp - 32.0) * 5.0 / 9.0\n",
    " \n",
    "print (\"celsius_to_fahrenheit:\", celsius_to_fahrenheit(c_temp))\n",
    "print (\"fahrenheit_to_celsius:\", fahrenheit_to_celsius(f_temp))\n",
    "print (\"fahrenheit_to_Kelvin:\", (fahrenheit_to_celsius(f_temp)+273))\n",
    "\n",
    "\n",
    "#Write a program to convert fahrenheit to kelvin and celsius both.\n",
    "\n",
    "fvalue=108\n",
    "cvalue = (5 * (fvalue - 32)) / 9\n",
    "kvalue = cvalue +273\n",
    "print (\"Fahrenheit:\", fvalue)\n",
    "print (\"Celsius:\", cvalue)\n",
    "print (\"Kelvin:\", kvalue)\n"
   ]
  },
  {
   "cell_type": "code",
   "execution_count": 9,
   "metadata": {},
   "outputs": [
    {
     "name": "stdout",
     "output_type": "stream",
     "text": [
      "Hello India\n",
      "<class 'str'>\n",
      "50\n",
      "<class 'int'>\n",
      "30.5\n",
      "<class 'float'>\n",
      "(2+1j)\n",
      "<class 'complex'>\n",
      "['apple', 'banana', 'cherry']\n",
      "<class 'list'>\n",
      "('apple', 'banana', 'cherry')\n",
      "<class 'tuple'>\n",
      "{'name': 'John', 'age': 36}\n",
      "<class 'dict'>\n",
      "{'cherry', 'banana', 'apple'}\n",
      "<class 'set'>\n",
      "frozenset({'cherry', 'banana', 'apple'})\n",
      "<class 'frozenset'>\n",
      "range(0, 6)\n",
      "<class 'range'>\n",
      "True\n",
      "<class 'bool'>\n",
      "b'India'\n",
      "<class 'bytes'>\n",
      "bytearray(b'\\x00\\x00\\x00\\x00\\x00')\n",
      "<class 'bytearray'>\n",
      "<memory at 0x0000000007011888>\n",
      "<class 'memoryview'>\n"
     ]
    }
   ],
   "source": [
    "#display the data type\n",
    "x = \"Hello India\"\n",
    "print(x)\n",
    "print(type(x)) \n",
    "\n",
    "x1 = 50\n",
    "print(x1)\n",
    "print(type(x1)) \n",
    "x2 = 30.5\n",
    "print(x2)\n",
    "print(type(x2)) \n",
    "x3 = 2+1j\n",
    "print(x3)\n",
    "print(type(x3)) \n",
    "x4 = [\"apple\", \"banana\", \"cherry\"]\n",
    "print(x4)\n",
    "print(type(x4)) \n",
    "x5 = (\"apple\", \"banana\", \"cherry\")\n",
    "print(x5)\n",
    "print(type(x5)) \n",
    "x6 = {\"name\" : \"John\", \"age\" : 36}\n",
    "print(x6)\n",
    "print(type(x6)) \n",
    "x7 = {\"apple\", \"banana\", \"cherry\"}\n",
    "print(x7)\n",
    "print(type(x7)) \n",
    "x8 = frozenset({\"apple\", \"banana\", \"cherry\"})\n",
    "print(x8)\n",
    "print(type(x8)) \n",
    "x9 = range(6)\n",
    "print(x9)\n",
    "print(type(x9)) \n",
    "x10 = True\n",
    "print(x10)\n",
    "print(type(x10)) \n",
    "x11 = b\"India\"\n",
    "print(x11)\n",
    "print(type(x11)) \n",
    "x12 = bytearray(5)\n",
    "print(x12)\n",
    "print(type(x12)) \n",
    "x13 = memoryview(bytes(5))\n",
    "print(x13)\n",
    "print(type(x13))"
   ]
  },
  {
   "cell_type": "code",
   "execution_count": null,
   "metadata": {},
   "outputs": [],
   "source": []
  }
 ],
 "metadata": {
  "kernelspec": {
   "display_name": "Python 3",
   "language": "python",
   "name": "python3"
  },
  "language_info": {
   "codemirror_mode": {
    "name": "ipython",
    "version": 3
   },
   "file_extension": ".py",
   "mimetype": "text/x-python",
   "name": "python",
   "nbconvert_exporter": "python",
   "pygments_lexer": "ipython3",
   "version": "3.7.6"
  }
 },
 "nbformat": 4,
 "nbformat_minor": 4
}
