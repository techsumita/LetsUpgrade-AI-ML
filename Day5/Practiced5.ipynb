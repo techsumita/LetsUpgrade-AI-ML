{
 "cells": [
  {
   "cell_type": "code",
   "execution_count": 12,
   "metadata": {},
   "outputs": [
    {
     "name": "stdout",
     "output_type": "stream",
     "text": [
      "true\n",
      "false\n"
     ]
    }
   ],
   "source": [
    "def isPrime(n): \n",
    "  \n",
    "    # Corner case \n",
    "    if n <= 1: \n",
    "        return False\n",
    "  \n",
    "    # Check from 2 to n-1 \n",
    "    for i in range(2, n): \n",
    "        if n % i == 0: \n",
    "            return False; \n",
    "  \n",
    "    return True\n",
    "  \n",
    "print(\"true\") if isPrime(11) else print(\"false\") \n",
    "print(\"true\") if isPrime(14) else print(\"false\") "
   ]
  },
  {
   "cell_type": "code",
   "execution_count": null,
   "metadata": {},
   "outputs": [],
   "source": [
    "def isPalindrome(string):\n",
    " left_pos = 0\n",
    " right_pos = len(string) - 1\n",
    " \n",
    " while right_pos >= left_pos:\n",
    "    if not string[left_pos] == string[right_pos]:\n",
    "        return False\n",
    " left_pos += 1\n",
    " right_pos -= 1\n",
    " return True\n",
    "print(isPalindrome('aza'))"
   ]
  },
  {
   "cell_type": "code",
   "execution_count": null,
   "metadata": {},
   "outputs": [],
   "source": [
    "def isPrime(n): \n",
    "  \n",
    "    if n <= 1: \n",
    "        return False\n",
    "    for i in range(2, n): \n",
    "        if n % i == 0: \n",
    "            return False; \n",
    "  \n",
    "    return True\n",
    "  \n",
    "print(\"A prime no\") if isPrime(11) else print(\"Not a Prime no\") \n",
    "print(\"A prime no\") if isPrime(14) else print(\"Not a Prime no\") \n",
    "\n",
    "\n",
    "string = \"ana\"\n",
    "flag = 0\n",
    "\n",
    "length = len(string)\n",
    "for i in range(length):\n",
    "    if(string[i] != string[length - i - 1]):\n",
    "        flag = 1\n",
    "        break\n",
    "\n",
    "if(flag == 0):\n",
    "   print(\"This is a Palindrome String\")\n",
    "else:\n",
    "   print(\"This is Not a Palindrome String\")\n",
    "   \n",
    "def is_anagram(str1, str2):\n",
    "    list_str1 = list(str1)\n",
    "    list_str1.sort()\n",
    "    list_str2 = list(str2)\n",
    "    list_str2.sort()\n",
    "\n",
    "    return (list_str1 == list_str2)\n",
    "\n",
    "print(is_anagram('anagram','nagaram'))\n",
    "print(is_anagram('cat','rat'))\n",
    "\n",
    "ini_string = \"Dr. Darshan Ingle @AI-ML Trainer\"\n",
    "  \n",
    "# printing initial string \n",
    "print (\"initial string : \", ini_string) \n",
    "  \n",
    "# function to demonstrate removal of characters \n",
    "# which are not numbers and alphabets using re \n",
    "getVals = list([val for val in ini_string if val.isalnum()]) \n",
    "result = \"\".join(getVals) \n",
    "\n",
    "# printing final string \n",
    "print (\"final string\", result) \n",
    "\n",
    "x = result.lower()\n",
    "\n",
    "print(\"final string in lower case\",x)\n",
    "\n"
   ]
  },
  {
   "cell_type": "code",
   "execution_count": null,
   "metadata": {},
   "outputs": [],
   "source": []
  }
 ],
 "metadata": {
  "kernelspec": {
   "display_name": "Python 3",
   "language": "python",
   "name": "python3"
  },
  "language_info": {
   "codemirror_mode": {
    "name": "ipython",
    "version": 3
   },
   "file_extension": ".py",
   "mimetype": "text/x-python",
   "name": "python",
   "nbconvert_exporter": "python",
   "pygments_lexer": "ipython3",
   "version": "3.7.6"
  }
 },
 "nbformat": 4,
 "nbformat_minor": 4
}
